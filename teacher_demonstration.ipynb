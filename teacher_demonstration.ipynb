{
 "cells": [
  {
   "cell_type": "code",
   "execution_count": 1,
   "metadata": {},
   "outputs": [],
   "source": [
    "import main"
   ]
  },
  {
   "cell_type": "code",
   "execution_count": 2,
   "metadata": {},
   "outputs": [
    {
     "name": "stdout",
     "output_type": "stream",
     "text": [
      "Are you a student or a professor?\n",
      "1. Student \n",
      "2. Teacher\n",
      "Enter response:2\n",
      "Do you want to create a quiz or check quiz score marks?\n",
      "1. Create Quiz \n",
      "2. See marks \n",
      "3. Quit\n",
      "response: 1\n",
      "Do you want to create a quiz?('y' for yes, any other key for no)\n",
      "RESPONSE: y\n",
      "Input Question: Question 1\n",
      "A. Enter option: Question 1 Option A\n",
      "Is this the correct answer? ('y' for yes, any other key for no)\n",
      "RESPONSE: n\n",
      "Would you like to input another option? ('y' for yes, any other key for no)\n",
      "RESPONSE: y\n",
      "B. Enter option: Question 1 Option B\n",
      "Is this the correct answer? ('y' for yes, any other key for no)\n",
      "RESPONSE: y\n",
      "Would you like to input another option? ('y' for yes, any other key for no)\n",
      "RESPONSE: n\n",
      "Do you want to add another question?\n",
      "'y' for yes, any other key for no\n",
      "response: y\n",
      "Input Question: Question 2\n",
      "A. Enter option: Question 2 Option A\n",
      "Is this the correct answer? ('y' for yes, any other key for no)\n",
      "RESPONSE: y\n",
      "Would you like to input another option? ('y' for yes, any other key for no)\n",
      "RESPONSE: y\n",
      "B. Enter option: Question 2 Option B\n",
      "Would you like to input another option? ('y' for yes, any other key for no)\n",
      "RESPONSE: n\n",
      "Do you want to add another question?\n",
      "'y' for yes, any other key for no\n",
      "response: n\n",
      "Input the course code: DATA-543\n",
      "Do you want to create a quiz or check quiz score marks?\n",
      "1. Create Quiz \n",
      "2. See marks \n",
      "3. Quit\n",
      "response: 3\n"
     ]
    }
   ],
   "source": [
    "# Create Quiz flow\n",
    "main.start()"
   ]
  },
  {
   "cell_type": "code",
   "execution_count": 3,
   "metadata": {},
   "outputs": [
    {
     "name": "stdout",
     "output_type": "stream",
     "text": [
      "Are you a student or a professor?\n",
      "1. Student \n",
      "2. Teacher\n",
      "Enter response:2\n",
      "Do you want to create a quiz or check quiz score marks?\n",
      "1. Create Quiz \n",
      "2. See marks \n",
      "3. Quit\n",
      "response: 2\n",
      "What would you like to do?\n",
      "1. View students quiz mark \n",
      "2. Change a students quiz mark \n",
      "3. Calculate quiz score summary statistics \n",
      "4. Quit\n",
      "response: 1\n",
      "Provide the course code: DATA-533\n",
      "Provide student number: 12345\n",
      "\n",
      "\n",
      "Name: Student A\n",
      "Student Number: 12345\n",
      "Score: 66.67\n",
      "\n",
      "\n",
      "What would you like to do?\n",
      "1. View students quiz mark \n",
      "2. Change a students quiz mark \n",
      "3. Calculate quiz score summary statistics \n",
      "4. Quit\n",
      "response: 2\n",
      "Provide the course code: DATA-533\n",
      "Provide student number: 12345\n",
      "Provide updated mark: 70\n",
      "\n",
      "\n",
      "updated mark for Student A: 70\n",
      "\n",
      "\n",
      "What would you like to do?\n",
      "1. View students quiz mark \n",
      "2. Change a students quiz mark \n",
      "3. Calculate quiz score summary statistics \n",
      "4. Quit\n",
      "response: 3\n",
      "Provide the course code: DATA-533\n",
      "\n",
      "\n",
      "MINIMUM: 70.0\n",
      "LOWER QUARTILE: 70.0\n",
      "MEAN: 70.0\n",
      "MEDIAN: 70.0\n",
      "UPPER QUARTILE: 70.0\n",
      "MAXIMUM: 70.0\n",
      "\n",
      "\n",
      "What would you like to do?\n",
      "1. View students quiz mark \n",
      "2. Change a students quiz mark \n",
      "3. Calculate quiz score summary statistics \n",
      "4. Quit\n",
      "response: 4\n",
      "Do you want to create a quiz or check quiz score marks?\n",
      "1. Create Quiz \n",
      "2. See marks \n",
      "3. Quit\n",
      "response: 3\n"
     ]
    }
   ],
   "source": [
    "# See Marks flow\n",
    "# Demonstrates how to view student score, change student score and view quiz statistics\n",
    "main.start()"
   ]
  }
 ],
 "metadata": {
  "kernelspec": {
   "display_name": "Python 3 (ipykernel)",
   "language": "python",
   "name": "python3"
  },
  "language_info": {
   "codemirror_mode": {
    "name": "ipython",
    "version": 3
   },
   "file_extension": ".py",
   "mimetype": "text/x-python",
   "name": "python",
   "nbconvert_exporter": "python",
   "pygments_lexer": "ipython3",
   "version": "3.11.5"
  }
 },
 "nbformat": 4,
 "nbformat_minor": 4
}
