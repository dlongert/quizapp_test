{
 "cells": [
  {
   "cell_type": "code",
   "execution_count": 7,
   "metadata": {},
   "outputs": [
    {
     "name": "stderr",
     "output_type": "stream",
     "text": [
      "test_get_student_scores (__main__.CheckStudentScoreTest.test_get_student_scores) ... ok\n",
      "\n",
      "----------------------------------------------------------------------\n",
      "Ran 1 test in 0.004s\n",
      "\n",
      "OK\n"
     ]
    },
    {
     "name": "stdout",
     "output_type": "stream",
     "text": [
      "Setting up class\n",
      "Setting up test\n",
      "Tearing down test\n",
      "Tearing down class\n"
     ]
    },
    {
     "data": {
      "text/plain": [
       "<unittest.main.TestProgram at 0x7f01d2b35a10>"
      ]
     },
     "execution_count": 7,
     "metadata": {},
     "output_type": "execute_result"
    }
   ],
   "source": [
    "import unittest\n",
    "from teacher.checkstudentscores import get_student_scores, set_student_scores, quiz_score_statistics, score_driver, quiz_or_score\n",
    "import mock\n",
    "\n",
    "COURSE_CODE = \"Data-533\"\n",
    "SCORE_DATA = \"12345,Dylan Longert,95.0\"\n",
    "\n",
    "class CheckStudentScoreTest(unittest.TestCase):\n",
    "    @classmethod\n",
    "    def setUpClass(cls):\n",
    "        print(\"In setUpClass()\")\n",
    "\n",
    "    def setUp(self):\n",
    "        print(\"Setting up test\")\n",
    "        # Set up variables for reuse across tests\n",
    "        self.course = \"Data-533\"\n",
    "        self.student_number = 12345\n",
    "        self.updated_score = 95.0\n",
    "        self.file_path = \"../assets/scores/Data-533_scores.csv\"\n",
    "\n",
    "    def test_get_student_scores(self):\n",
    "        mock_open = mock.mock_open(read_data=SCORE_DATA)\n",
    "        with mock.patch('builtins.open', mock_open):\n",
    "            result = get_student_scores(self.course, self.student_number)\n",
    "        # self.assertEqual(result, None)\n",
    "        self.assertIsNotNone(result)\n",
    "\n",
    "    # def test_set_student_scores(self):\n",
    "    #     mock_open = mock.mock_open(read_data=READ_DATA)\n",
    "    #     with mock.patch('builtins.open', mock_open):\n",
    "    #         result = set_student_scores(self.course, self.student_number, self.updated_score)\n",
    "    #     self.assertEqual(result, None)\n",
    "\n",
    "    # def test_quiz_score_statistics(self):\n",
    "    #     mock_open = mock.mock_open(read_data=READ_DATA)\n",
    "    #     with mock.patch('builtins.open', mock_open):\n",
    "    #         result = quiz_score_statistics(self.course)\n",
    "    #     self.assertTrue(result, True)\n",
    "\n",
    "    # @mock.patch(\"teacher.checkstudentscores.input\", create=True)\n",
    "    # def test_score_driver(self, mocked_input):\n",
    "    #     mocked_input.side_effect = [3]\n",
    "    #     result = score_driver()\n",
    "    #     self.assertTrue(result, True)\n",
    "    \n",
    "    # @mock.patch(\"teacher.checkstudentscores.input\", create=True)\n",
    "    # def test_quiz_or_score(self, mock_input):\n",
    "    #     mock_input.side_effect = [3]\n",
    "    #     result = quiz_or_score()\n",
    "    #     self.assertTrue(result, True)\n",
    "\n",
    "\n",
    "    def tearDown(self):\n",
    "        del self.course\n",
    "        del self.student_number\n",
    "        del self.updated_score\n",
    "        del self.file_path\n",
    "\n",
    "    @classmethod\n",
    "    def tearDownClass(cls):\n",
    "        print(\"In tearDownClass()\")\n",
    "    \n",
    "unittest.main(argv=[''], verbosity=2, exit=False)"
   ]
  }
 ],
 "metadata": {
  "kernelspec": {
   "display_name": "base",
   "language": "python",
   "name": "python3"
  },
  "language_info": {
   "codemirror_mode": {
    "name": "ipython",
    "version": 3
   },
   "file_extension": ".py",
   "mimetype": "text/x-python",
   "name": "python",
   "nbconvert_exporter": "python",
   "pygments_lexer": "ipython3",
   "version": "3.11.5"
  }
 },
 "nbformat": 4,
 "nbformat_minor": 2
}
