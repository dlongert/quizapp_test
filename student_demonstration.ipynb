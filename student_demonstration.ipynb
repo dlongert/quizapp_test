{
 "cells": [
  {
   "cell_type": "code",
   "execution_count": 2,
   "id": "39403616-b24d-446b-9527-cd94c2f28339",
   "metadata": {},
   "outputs": [],
   "source": [
    "import main"
   ]
  },
  {
   "cell_type": "code",
   "execution_count": 3,
   "id": "65ab07ff-6784-4122-87d2-9e14db654157",
   "metadata": {},
   "outputs": [
    {
     "name": "stdout",
     "output_type": "stream",
     "text": [
      "Are you a student or a professor?\n",
      "1. Student \n",
      "2. Teacher\n"
     ]
    },
    {
     "name": "stdin",
     "output_type": "stream",
     "text": [
      "Enter response: 1\n",
      "Please enter your name: dylan longert\n",
      "Please enter your student number: 12345\n"
     ]
    },
    {
     "name": "stdout",
     "output_type": "stream",
     "text": [
      "Welcome dylan longert\n",
      "Quizzes for these courses are available:\n",
      "1 . Data-533\n"
     ]
    },
    {
     "name": "stdin",
     "output_type": "stream",
     "text": [
      "Enter your choice: 1\n"
     ]
    },
    {
     "name": "stdout",
     "output_type": "stream",
     "text": [
      "\n",
      "Q1. Question 1\n",
      "\n",
      "A. A\n",
      "B. B\n",
      "C. C\n",
      "D. D\n",
      "E. E\n"
     ]
    },
    {
     "name": "stdin",
     "output_type": "stream",
     "text": [
      "\n",
      "Enter your answer:  A\n"
     ]
    },
    {
     "name": "stdout",
     "output_type": "stream",
     "text": [
      "\n",
      "You are correct\n",
      "\n",
      "Q2. Question 2\n",
      "\n",
      "A. 1\n",
      "B. 2\n",
      "C. 3\n",
      "D. 4\n",
      "E. 5\n"
     ]
    },
    {
     "name": "stdin",
     "output_type": "stream",
     "text": [
      "\n",
      "Enter your answer:  C\n"
     ]
    },
    {
     "name": "stdout",
     "output_type": "stream",
     "text": [
      "\n",
      "You are incorrect\n",
      "Your score is: 50.0 and it was saved successfully.\n",
      "Do you want to calculate overall percentage?\n",
      "1. Yes \n",
      "2. No\n"
     ]
    },
    {
     "name": "stdin",
     "output_type": "stream",
     "text": [
      "Enter response: 1\n"
     ]
    },
    {
     "name": "stdout",
     "output_type": "stream",
     "text": [
      "Your overall percentage across all courses is: 42.857142857142854\n"
     ]
    }
   ],
   "source": [
    "main.start()"
   ]
  }
 ],
 "metadata": {
  "kernelspec": {
   "display_name": "Python 3 (ipykernel)",
   "language": "python",
   "name": "python3"
  },
  "language_info": {
   "codemirror_mode": {
    "name": "ipython",
    "version": 3
   },
   "file_extension": ".py",
   "mimetype": "text/x-python",
   "name": "python",
   "nbconvert_exporter": "python",
   "pygments_lexer": "ipython3",
   "version": "3.11.5"
  }
 },
 "nbformat": 4,
 "nbformat_minor": 5
}
